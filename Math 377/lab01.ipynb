{
 "cells": [
  {
   "cell_type": "markdown",
   "metadata": {},
   "source": [
    "# Lab 1: Introduction to Python\n",
    "\n",
    "Welcome to Lab 1!  Each week you will complete a lab assignment like this one. In this lab, you'll get started with the Python programming language through numbers, names, and expressions.\n",
    "\n",
    "As you go, please regularly select **Save and Checkpoint** from the `File` menu below the Jupyter logo to save your work."
   ]
  },
  {
   "cell_type": "markdown",
   "metadata": {},
   "source": [
    "## 1. Numbers\n",
    "\n",
    "Quantitative information arises everywhere in data science. In addition to representing commands to print out lines, expressions can represent numbers and methods of combining numbers. The expression `3.2500` evaluates to the number 3.25. (Run the cell and see.)"
   ]
  },
  {
   "cell_type": "code",
   "execution_count": 1,
   "metadata": {
    "scrolled": true
   },
   "outputs": [
    {
     "data": {
      "text/plain": [
       "3.25"
      ]
     },
     "execution_count": 1,
     "metadata": {},
     "output_type": "execute_result"
    }
   ],
   "source": [
    "3.2500"
   ]
  },
  {
   "cell_type": "markdown",
   "metadata": {},
   "source": [
    "Notice that we didn't have to `print`. When you run a notebook cell, if the last line has a value, then Jupyter helpfully prints out that value for you. However, it won't print out prior lines automatically. If you want to print out a prior line, you need to add the `print` statement. Run the cell below to check."
   ]
  },
  {
   "cell_type": "code",
   "execution_count": 2,
   "metadata": {
    "scrolled": true
   },
   "outputs": [
    {
     "name": "stdout",
     "output_type": "stream",
     "text": [
      "2\n"
     ]
    },
    {
     "data": {
      "text/plain": [
       "4"
      ]
     },
     "execution_count": 2,
     "metadata": {},
     "output_type": "execute_result"
    }
   ],
   "source": [
    "print(2)\n",
    "3\n",
    "4"
   ]
  },
  {
   "cell_type": "markdown",
   "metadata": {},
   "source": [
    "Above, you should see that 4 is the value of the last expression, 2 is printed, but 3 is lost forever because it was neither printed nor last.\n",
    "\n",
    "You don't want to print everything all the time anyway.  But if you feel sorry for 3, change the cell above to print it."
   ]
  },
  {
   "cell_type": "markdown",
   "metadata": {},
   "source": [
    "### 1.1. Arithmetic\n",
    "The line in the next cell subtracts.  Its value is what you'd expect.  Run it."
   ]
  },
  {
   "cell_type": "code",
   "execution_count": 3,
   "metadata": {
    "scrolled": true
   },
   "outputs": [
    {
     "data": {
      "text/plain": [
       "1.75"
      ]
     },
     "execution_count": 3,
     "metadata": {},
     "output_type": "execute_result"
    }
   ],
   "source": [
    "3.25 - 1.5"
   ]
  },
  {
   "cell_type": "markdown",
   "metadata": {},
   "source": [
    "Many basic arithmetic operations are built in to Python.  The textbook section on [Expressions](http://www.inferentialthinking.com/chapters/03/1/expressions.html) describes all the arithmetic operators used in the course.  The common operator that differs from typical math notation is `**`, which raises one number to the power of the other. So, `2**3` stands for $2^3$ and evaluates to 8. \n",
    "\n",
    "The order of operations is what you learned in elementary school, and Python also has parentheses.  For example, compare the outputs of the cells below. Use parentheses for a happy new year!"
   ]
  },
  {
   "cell_type": "code",
   "execution_count": 4,
   "metadata": {
    "scrolled": true
   },
   "outputs": [
    {
     "data": {
      "text/plain": [
       "-724.0"
      ]
     },
     "execution_count": 4,
     "metadata": {},
     "output_type": "execute_result"
    }
   ],
   "source": [
    "2+6*5-6*3**2*2**3/4*7"
   ]
  },
  {
   "cell_type": "code",
   "execution_count": 5,
   "metadata": {
    "scrolled": true
   },
   "outputs": [
    {
     "data": {
      "text/plain": [
       "2018.0"
      ]
     },
     "execution_count": 5,
     "metadata": {},
     "output_type": "execute_result"
    }
   ],
   "source": [
    "2+(6*5-(6*3))**2*((2**3)/4*7)"
   ]
  },
  {
   "cell_type": "markdown",
   "metadata": {},
   "source": [
    "In standard math notation, the first expression is\n",
    "\n",
    "$$2 + 6 \\times 5 - 6 \\times 3^2 \\times \\frac{2^3}{4} \\times 7,$$\n",
    "\n",
    "while the second expression is\n",
    "\n",
    "$$2 + (6 \\times 5 - (6 \\times 3))^2 \\times (\\frac{(2^3)}{4} \\times 7).$$\n",
    "\n",
    "**Question 1.1.1.** <br /> Write a Python expression in this next cell that's equal to $5 \\times (3 \\frac{10}{11}) - 49 \\frac{1}{3} + 2^{.5 \\times 22} - \\frac{7}{33}$.  That's five times three and ten elevenths, minus 49 and a third, plus two to the power of half of 22, minus 7 33rds.  By \"$3 \\frac{10}{11}$\" we mean $3+\\frac{10}{11}$, not $3 \\times \\frac{10}{11}$.\n",
    "\n",
    "Replace the ellipses (`...`) with your expression.  Try to use parentheses only when necessary.\n",
    "\n",
    "*Hint:* The correct output should be a familiar number."
   ]
  },
  {
   "cell_type": "code",
   "execution_count": 6,
   "metadata": {
    "scrolled": true
   },
   "outputs": [
    {
     "data": {
      "text/plain": [
       "2045.090909090909"
      ]
     },
     "execution_count": 6,
     "metadata": {},
     "output_type": "execute_result"
    }
   ],
   "source": [
    "5*3*(10/11)-49/3+2**11-7/33"
   ]
  },
  {
   "cell_type": "markdown",
   "metadata": {},
   "source": [
    "## 2. Names\n",
    "In natural language, we have terminology that lets us quickly reference very complicated concepts.  We don't say, \"That's a large mammal with brown fur and sharp teeth!\"  Instead, we just say, \"Bear!\"\n",
    "\n",
    "Similarly, an effective strategy for writing code is to define names for data as we compute it, like a lawyer would define terms for complex ideas at the start of a legal document to simplify the rest of the writing.\n",
    "\n",
    "In Python, we do this with *assignment statements*. An assignment statement has a name on the left side of an `=` sign and an expression to be evaluated on the right."
   ]
  },
  {
   "cell_type": "code",
   "execution_count": 7,
   "metadata": {
    "scrolled": true
   },
   "outputs": [],
   "source": [
    "ten = 3 * 2 + 4"
   ]
  },
  {
   "cell_type": "markdown",
   "metadata": {},
   "source": [
    "When you run that cell, Python first evaluates the first line.  It computes the value of the expression `3 * 2 + 4`, which is the number 10.  Then it gives that value the name `ten`.  At that point, the code in the cell is done running.\n",
    "\n",
    "After you run that cell, the value 10 is bound to the name `ten`:"
   ]
  },
  {
   "cell_type": "code",
   "execution_count": 8,
   "metadata": {
    "scrolled": true
   },
   "outputs": [
    {
     "data": {
      "text/plain": [
       "10"
      ]
     },
     "execution_count": 8,
     "metadata": {},
     "output_type": "execute_result"
    }
   ],
   "source": [
    "ten"
   ]
  },
  {
   "cell_type": "markdown",
   "metadata": {},
   "source": [
    "The statement `ten = 3 * 2 + 4` is not asserting that `ten` is already equal to `3 * 2 + 4`, as we might expect by analogy with math notation.  Rather, that line of code changes what `ten` means; it now refers to the value 10, whereas before it meant nothing at all.\n",
    "\n",
    "If the designers of Python had been ruthlessly pedantic, they might have made us write\n",
    "\n",
    "    define the name ten to hereafter have the value of 3 * 2 + 4 \n",
    "\n",
    "instead.  You will probably appreciate the brevity of \"`=`\"!  But keep in mind that this is the real meaning.\n",
    "\n",
    "**Question 2.1.** <br /> Try writing code that uses a name (like `eleven`) that hasn't been assigned to anything.  You'll see an error!"
   ]
  },
  {
   "cell_type": "code",
   "execution_count": null,
   "metadata": {
    "scrolled": true
   },
   "outputs": [],
   "source": []
  },
  {
   "cell_type": "markdown",
   "metadata": {},
   "source": [
    "A common pattern in Jupyter notebooks is to assign a value to a name and then immediately evaluate the name in the last line in the cell so that the value is displayed as output. "
   ]
  },
  {
   "cell_type": "code",
   "execution_count": 9,
   "metadata": {
    "scrolled": true
   },
   "outputs": [
    {
     "data": {
      "text/plain": [
       "3.1415929203539825"
      ]
     },
     "execution_count": 9,
     "metadata": {},
     "output_type": "execute_result"
    }
   ],
   "source": [
    "close_to_pi = 355/113\n",
    "close_to_pi"
   ]
  },
  {
   "cell_type": "markdown",
   "metadata": {},
   "source": [
    "Another common pattern is that a series of lines in a single cell will build up a complex computation in stages, naming the intermediate results."
   ]
  },
  {
   "cell_type": "code",
   "execution_count": 10,
   "metadata": {
    "scrolled": true
   },
   "outputs": [
    {
     "data": {
      "text/plain": [
       "20160"
      ]
     },
     "execution_count": 10,
     "metadata": {},
     "output_type": "execute_result"
    }
   ],
   "source": [
    "bimonthly_salary = 840\n",
    "monthly_salary = 2 * bimonthly_salary\n",
    "number_of_months_in_a_year = 12\n",
    "yearly_salary = number_of_months_in_a_year * monthly_salary\n",
    "yearly_salary"
   ]
  },
  {
   "cell_type": "markdown",
   "metadata": {},
   "source": [
    "Names in Python can have letters (upper- and lower-case letters are both okay and count as different letters), underscores, and numbers.  The first character can't be a number (otherwise a name might look like a number).  And names can't contain spaces, since spaces are used to separate pieces of code from each other.\n",
    "\n",
    "Other than those rules, what you name something doesn't matter *to Python*.  For example, this cell does the same thing as the above cell, except everything has a different name:"
   ]
  },
  {
   "cell_type": "code",
   "execution_count": 11,
   "metadata": {
    "scrolled": true
   },
   "outputs": [
    {
     "data": {
      "text/plain": [
       "20160"
      ]
     },
     "execution_count": 11,
     "metadata": {},
     "output_type": "execute_result"
    }
   ],
   "source": [
    "a = 840\n",
    "b = 2 * a\n",
    "c = 12\n",
    "d = c * b\n",
    "d"
   ]
  },
  {
   "cell_type": "markdown",
   "metadata": {},
   "source": [
    "**However**, names are very important for making your code *readable* to yourself and others.  The cell above is shorter, but it's totally useless without an explanation of what it does.\n",
    "\n",
    "According to a famous joke among computer scientists, naming things is one of the two hardest problems in computer science.  (The other two are cache invalidation and \"off-by-one\" errors.  And people say computer scientists have an odd sense of humor...)"
   ]
  },
  {
   "cell_type": "markdown",
   "metadata": {},
   "source": [
    "**Question 2.2.** <br /> Assign the name `seconds_in_a_decade` to the number of seconds between midnight January 1, 2010 and midnight January 1, 2020. Use Python to perform any required arithmetic.\n",
    "\n",
    "*Hint:* If you're stuck, the next section shows you how to get hints."
   ]
  },
  {
   "cell_type": "code",
   "execution_count": 12,
   "metadata": {
    "scrolled": true
   },
   "outputs": [
    {
     "data": {
      "text/plain": [
       "Ellipsis"
      ]
     },
     "execution_count": 12,
     "metadata": {},
     "output_type": "execute_result"
    }
   ],
   "source": [
    "# Change the next line so that it computes the number of\n",
    "# seconds in a decade and assigns that number the name\n",
    "# seconds_in_a_decade.\n",
    "seconds_in_a_decade = ...\n",
    "\n",
    "# We've put this line in this cell so that it will print\n",
    "# the value you've given to seconds_in_a_decade when you\n",
    "# run it.  You don't need to change this.\n",
    "seconds_in_a_decade"
   ]
  },
  {
   "cell_type": "markdown",
   "metadata": {},
   "source": [
    "### 2.1. Checking your code\n",
    "Now that you know how to name things, you can start using the built-in *tests* to check whether your work is correct. Try not to change the contents of the test cells. \n",
    "\n",
    "The cell below appears only once in the notebook and loads all of the tests so that they can be run later. You can load all of the tests before you answer all questions in the notebook. You will run tests as you go to check your work along the way, and you can also run all of the tests at the end to make sure that you will receive full credit on the lab."
   ]
  },
  {
   "cell_type": "code",
   "execution_count": 13,
   "metadata": {},
   "outputs": [],
   "source": [
    "# These lines load the tests.\n",
    "from client.api.notebook import Notebook\n",
    "ok = Notebook('lab01.ok')"
   ]
  },
  {
   "cell_type": "markdown",
   "metadata": {},
   "source": [
    "Running the following cell will test whether you have assigned `seconds_in_a_decade` correctly in Question 2.2. \n",
    "\n",
    "Sometimes the tests will give hints about what went wrong. If the test doesn't pass, read the output, adjust your answer to the question, run the answer cell again to update the name `seconds_in_a_decade`, then run this test cell again.\n",
    "\n",
    "Sometimes the tests will tell you the answer. Rather than copying the answer, try to understand how it was reached. "
   ]
  },
  {
   "cell_type": "code",
   "execution_count": 14,
   "metadata": {
    "scrolled": true
   },
   "outputs": [
    {
     "data": {
      "text/html": [
       "<pre>Test 2.2 2 failed!\n",
       "\n",
       "Test code:\n",
       "\n",
       "&gt;&gt;&gt; # It looks like you didn&#x27;t change the cell to define\n",
       "&gt;&gt;&gt; # seconds_in_a_decade appropriately.  It should be a number,\n",
       "&gt;&gt;&gt; # computed using Python&#x27;s arithmetic.  For example, here&#x27;s\n",
       "&gt;&gt;&gt; # a statement that changes seconds_in_a_decade to 100:\n",
       "&gt;&gt;&gt; #   seconds_in_a_decade = 10*10\n",
       "&gt;&gt;&gt; seconds_in_a_decade != ...\n",
       "True\n",
       "\n",
       "\n",
       "Test result:\n",
       "Trying:\n",
       "    seconds_in_a_decade != ...\n",
       "Expecting:\n",
       "    True\n",
       "**********************************************************************\n",
       "Line 7, in 2.2 2\n",
       "Failed example:\n",
       "    seconds_in_a_decade != ...\n",
       "Expected:\n",
       "    True\n",
       "Got:\n",
       "    False\n",
       "</pre>"
      ],
      "text/plain": [
       "<okgrade.result.TestResult at 0x7f8ad0344c88>"
      ]
     },
     "metadata": {},
     "output_type": "display_data"
    }
   ],
   "source": [
    "# Test cell; please do not change!\n",
    "_ = ok.grade('q22')"
   ]
  },
  {
   "cell_type": "markdown",
   "metadata": {},
   "source": [
    "### 2.2. Comments\n",
    "You may have noticed this line in the cell above:\n",
    "\n",
    "    # Test cell; please do not change!\n",
    "\n",
    "That is called a *comment*.  It doesn't make anything happen in Python; Python ignores anything on a line after a #.  Instead, it's there to communicate something about the code to you, the human reader.  Comments are extremely useful.\n",
    "\n",
    "<img src=\"http://imgs.xkcd.com/comics/future_self.png\" alt=\"comic about comments\">"
   ]
  },
  {
   "cell_type": "markdown",
   "metadata": {},
   "source": [
    "### 2.3. Application: A physics experiment\n",
    "\n",
    "On the Apollo 15 mission to the Moon, astronaut David Scott famously replicated Galileo's physics experiment in which he showed that gravity accelerates objects of different mass at the same rate. Because there is no air resistance for a falling object on the surface of the Moon, even two objects with very different masses and densities should fall at the same rate. David Scott compared a feather and a hammer.\n",
    "\n",
    "You can run the following cell to watch a video of the experiment."
   ]
  },
  {
   "cell_type": "code",
   "execution_count": 15,
   "metadata": {
    "scrolled": true
   },
   "outputs": [
    {
     "data": {
      "image/jpeg": "[encoded data removed]",
      "text/html": [
       "\n",
       "        <iframe\n",
       "            width=\"400\"\n",
       "            height=\"300\"\n",
       "            src=\"https://www.youtube.com/embed/U7db6ZeLR5s\"\n",
       "            frameborder=\"0\"\n",
       "            allowfullscreen\n",
       "        ></iframe>\n",
       "        "
      ],
      "text/plain": [
       "<IPython.lib.display.YouTubeVideo at 0x7f8ad03c1e80>"
      ]
     },
     "execution_count": 15,
     "metadata": {},
     "output_type": "execute_result"
    }
   ],
   "source": [
    "from IPython.display import YouTubeVideo\n",
    "# The original URL is:\n",
    "#   https://www.youtube.com/watch?v=U7db6ZeLR5s\n",
    "YouTubeVideo(\"U7db6ZeLR5s\")"
   ]
  },
  {
   "cell_type": "markdown",
   "metadata": {},
   "source": [
    "Here's the transcript of the video:\n",
    "\n",
    "**167:22:06 Scott**: Well, in my left hand, I have a feather; in my right hand, a hammer. And I guess one of the reasons we got here today was because of a gentleman named Galileo, a long time ago, who made a rather significant discovery about falling objects in gravity fields. And we thought where would be a better place to confirm his findings than on the Moon. And so we thought we'd try it here for you. The feather happens to be, appropriately, a falcon feather for our Falcon. And I'll drop the two of them here and, hopefully, they'll hit the ground at the same time. \n",
    "\n",
    "**167:22:43 Scott**: How about that!\n",
    "\n",
    "**167:22:45 Allen**: How about that! (Applause in Houston)\n",
    "\n",
    "**167:22:46 Scott**: Which proves that Mr. Galileo was correct in his findings."
   ]
  },
  {
   "cell_type": "markdown",
   "metadata": {},
   "source": [
    "**Newton's Law.** Using this footage, we can also attempt to confirm another famous bit of physics: Newton's law of universal gravitation. Newton's laws predict that any object dropped near the surface of the Moon should fall\n",
    "\n",
    "$$\\frac{1}{2} G \\frac{M}{R^2} t^2 \\text{ meters}$$\n",
    "\n",
    "after $t$ seconds, where $G$ is a universal constant, $M$ is the moon's mass in kilograms, and $R$ is the moon's radius in meters.  So if we know $G$, $M$, and $R$, then Newton's laws let us predict how far an object will fall over any amount of time.\n",
    "\n",
    "To verify the accuracy of this law, we will calculate the difference between the predicted distance the hammer drops and the actual distance.  (If they are different, it might be because Newton's laws are wrong, or because our measurements are imprecise, or because there are other factors affecting the hammer for which we haven't accounted.)\n",
    "\n",
    "Someone studied the video and estimated that the hammer was dropped 113 cm from the surface. Counting frames in the video, the hammer falls for 1.2 seconds (36 frames)."
   ]
  },
  {
   "cell_type": "markdown",
   "metadata": {},
   "source": [
    "**Question 2.3.1.** <br /> Complete the code in the next cell to fill in the *data* from the experiment."
   ]
  },
  {
   "cell_type": "code",
   "execution_count": 31,
   "metadata": {
    "scrolled": true
   },
   "outputs": [
    {
     "name": "stdout",
     "output_type": "stream",
     "text": [
      "1.13\n"
     ]
    }
   ],
   "source": [
    "# t, the duration of the fall in the experiment, in seconds.\n",
    "# Fill this in.\n",
    "time = 1.2\n",
    "G = 6.67*10**-11\n",
    "M = 7.35*10**22\n",
    "R = 1.737*10**6\n",
    "\n",
    "# The estimated distance the hammer actually fell, in meters.\n",
    "# Fill this in.\n",
    "estimated_distance_m = 1.13\n",
    "print(round(estimated_distance_m,5))"
   ]
  },
  {
   "cell_type": "code",
   "execution_count": 32,
   "metadata": {
    "scrolled": true
   },
   "outputs": [
    {
     "data": {
      "text/html": [
       "<pre>/home/jovyan/materials-x18/materials/x18/lab/1/lab01/tests/q231.py: All tests passed!</pre>"
      ],
      "text/plain": [
       "<okgrade.result.TestResult at 0x7f8ad008fd30>"
      ]
     },
     "metadata": {},
     "output_type": "display_data"
    }
   ],
   "source": [
    "_ = ok.grade('q231')"
   ]
  },
  {
   "cell_type": "markdown",
   "metadata": {},
   "source": [
    "**Question 2.3.2.** <br /> Now, complete the code in the next cell to compute the difference between the predicted and estimated distances (in meters) that the hammer fell in this experiment.\n",
    "\n",
    "This just means translating the formula above ($\\frac{1}{2}G\\frac{M}{R^2}t^2$) into Python code.  You'll have to replace each variable in the math formula with the name we gave that number in Python code."
   ]
  },
  {
   "cell_type": "code",
   "execution_count": 35,
   "metadata": {
    "scrolled": true
   },
   "outputs": [
    {
     "data": {
      "text/plain": [
       "0.040223694659304865"
      ]
     },
     "execution_count": 35,
     "metadata": {},
     "output_type": "execute_result"
    }
   ],
   "source": [
    "# First, we've written down the values of the 3 universal\n",
    "# constants that show up in Newton's formula.\n",
    "\n",
    "# G, the universal constant measuring the strength of gravity.\n",
    "gravity_constant = 6.674 * 10**-11\n",
    "\n",
    "# M, the moon's mass, in kilograms.\n",
    "moon_mass_kg = 7.34767309 * 10**22\n",
    "\n",
    "# R, the radius of the moon, in meters.\n",
    "moon_radius_m = 1.737 * 10**6\n",
    "\n",
    "# The distance the hammer should have fallen over the\n",
    "# duration of the fall, in meters, according to Newton's\n",
    "# law of gravity.  The text above describes the formula\n",
    "# for this distance given by Newton's law.\n",
    "# **YOU FILL THIS PART IN.**\n",
    "predicted_distance_m = (gravity_constant/2)*(moon_mass_kg/moon_radius_m**2)*time**2\n",
    "\n",
    "# Here we've computed the difference between the predicted\n",
    "# fall distance and the distance we actually measured.\n",
    "# If you've filled in the above code, this should just work.\n",
    "difference = predicted_distance_m - estimated_distance_m\n",
    "difference"
   ]
  },
  {
   "cell_type": "code",
   "execution_count": 36,
   "metadata": {
    "scrolled": true
   },
   "outputs": [
    {
     "data": {
      "text/html": [
       "<pre>/home/jovyan/materials-x18/materials/x18/lab/1/lab01/tests/q232.py: All tests passed!</pre>"
      ],
      "text/plain": [
       "<okgrade.result.TestResult at 0x7f8ad008fcc0>"
      ]
     },
     "metadata": {},
     "output_type": "display_data"
    }
   ],
   "source": [
    "_ = ok.grade('q232')"
   ]
  },
  {
   "cell_type": "markdown",
   "metadata": {},
   "source": [
    "## 3. Calling functions\n",
    "\n",
    "The most common way to combine or manipulate values in Python is by calling functions. Python comes with many built-in functions that perform common operations.\n",
    "\n",
    "For example, the `abs` function takes a single number as its argument and returns the absolute value of that number.  The absolute value of a number is its distance from 0 on the number line, so `abs(5)` is 5 and `abs(-5)` is also 5."
   ]
  },
  {
   "cell_type": "code",
   "execution_count": 37,
   "metadata": {
    "scrolled": true
   },
   "outputs": [
    {
     "data": {
      "text/plain": [
       "5"
      ]
     },
     "execution_count": 37,
     "metadata": {},
     "output_type": "execute_result"
    }
   ],
   "source": [
    "abs(5)"
   ]
  },
  {
   "cell_type": "code",
   "execution_count": 38,
   "metadata": {
    "scrolled": true
   },
   "outputs": [
    {
     "data": {
      "text/plain": [
       "5"
      ]
     },
     "execution_count": 38,
     "metadata": {},
     "output_type": "execute_result"
    }
   ],
   "source": [
    "abs(-5)"
   ]
  },
  {
   "cell_type": "markdown",
   "metadata": {},
   "source": [
    "### 3.1. Application: Computing walking distances\n",
    "Chunhua is on the corner of 7th Avenue and 42nd Street in Midtown Manhattan, and she wants to know far she'd have to walk to get to Gramercy School on the corner of 10th Avenue and 34th Street.\n",
    "\n",
    "She can't cut across blocks diagonally, since there are buildings in the way.  She has to walk along the sidewalks.  Using the map below, she sees she'd have to walk 3 avenues (long blocks) and 8 streets (short blocks).  In terms of the given numbers, she computed 3 as the difference between 7 and 10, *in absolute value*, and 8 similarly.  \n",
    "\n",
    "Chunhua also knows that blocks in Manhattan are all about 80m by 274m (avenues are farther apart than streets).  So in total, she'd have to walk $(80 \\times |42 - 34| + 274 \\times |7 - 10|)$ meters to get to the park.\n",
    "\n",
    "<img src=\"map.jpg\" alt=\"visual map about distance calculation\"/>\n",
    "\n",
    "**Question 3.1.1.** <br /> Finish the line `num_avenues_away = ...` in the next cell so that the cell calculates the distance Chunhua must walk and gives it the name `manhattan_distance`.  Everything else has been filled in for you.  **Use the `abs` function.**"
   ]
  },
  {
   "cell_type": "code",
   "execution_count": 39,
   "metadata": {
    "scrolled": true
   },
   "outputs": [
    {
     "data": {
      "text/plain": [
       "1462"
      ]
     },
     "execution_count": 39,
     "metadata": {},
     "output_type": "execute_result"
    }
   ],
   "source": [
    "# Here's the number of streets away:\n",
    "num_streets_away = abs(42-34)\n",
    "\n",
    "# Compute the number of avenues away in a similar way:\n",
    "num_avenues_away = 3\n",
    "\n",
    "street_length_m = 80\n",
    "avenue_length_m = 274\n",
    "\n",
    "# Now we compute the total distance Chunhua must walk.\n",
    "manhattan_distance = street_length_m*num_streets_away + avenue_length_m*num_avenues_away\n",
    "\n",
    "# We've included this line so that you see the distance\n",
    "# you've computed when you run this cell.  You don't need\n",
    "# to change it, but you can if you want.\n",
    "manhattan_distance"
   ]
  },
  {
   "cell_type": "markdown",
   "metadata": {},
   "source": [
    "Be sure to run the next cell to test your code."
   ]
  },
  {
   "cell_type": "code",
   "execution_count": 40,
   "metadata": {
    "scrolled": true
   },
   "outputs": [
    {
     "data": {
      "text/html": [
       "<pre>/home/jovyan/materials-x18/materials/x18/lab/1/lab01/tests/q311.py: All tests passed!</pre>"
      ],
      "text/plain": [
       "<okgrade.result.TestResult at 0x7f8ad008ff28>"
      ]
     },
     "metadata": {},
     "output_type": "display_data"
    }
   ],
   "source": [
    "_ = ok.grade('q311')"
   ]
  },
  {
   "cell_type": "markdown",
   "metadata": {},
   "source": [
    "##### Multiple arguments\n",
    "Some functions take multiple arguments, separated by commas. For example, the built-in `max` function returns the maximum argument passed to it."
   ]
  },
  {
   "cell_type": "code",
   "execution_count": 41,
   "metadata": {
    "scrolled": true
   },
   "outputs": [
    {
     "data": {
      "text/plain": [
       "4"
      ]
     },
     "execution_count": 41,
     "metadata": {},
     "output_type": "execute_result"
    }
   ],
   "source": [
    "max(2, -3, 4, -5)"
   ]
  },
  {
   "cell_type": "markdown",
   "metadata": {},
   "source": [
    "## 4. Understanding nested expressions\n",
    "Function calls and arithmetic expressions can themselves contain expressions.  You saw an example in the last question:\n",
    "\n",
    "    abs(42-34)\n",
    "\n",
    "has 2 number expressions in a subtraction expression in a function call expression.  And you probably wrote something like `abs(7-10)` to compute `num_avenues_away`.\n",
    "\n",
    "Nested expressions can turn into complicated-looking code. However, the way in which complicated expressions break down is very regular.\n",
    "\n",
    "Suppose we are interested in heights that are very unusual.  We'll say that a height is unusual to the extent that it's far away on the number line from the average human height.  [An estimate](http://press.endocrine.org/doi/full/10.1210/jcem.86.9.7875?ck=nck&) of the average adult human height (averaging, we hope, over all humans on Earth today) is 1.688 meters.\n",
    "\n",
    "So if Aditya is 1.21 meters tall, then his height is $|1.21 - 1.688|$, or $.478$, meters away from the average.  Here's a picture of that:\n",
    "\n",
    "<img src=\"numberline_0.png\" alt=\"number line showing height difference and teaching abs value\">\n",
    "\n",
    "And here's how we'd write that in one line of Python code:"
   ]
  },
  {
   "cell_type": "code",
   "execution_count": 42,
   "metadata": {
    "scrolled": true
   },
   "outputs": [
    {
     "data": {
      "text/plain": [
       "0.478"
      ]
     },
     "execution_count": 42,
     "metadata": {},
     "output_type": "execute_result"
    }
   ],
   "source": [
    "abs(1.21 - 1.688)"
   ]
  },
  {
   "cell_type": "markdown",
   "metadata": {},
   "source": [
    "What's going on here?  `abs` takes just one argument, so the stuff inside the parentheses is all part of that *single argument*.  Specifically, the argument is the value of the expression `1.21 - 1.688`.  The value of that expression is `-.478`.  That value is the argument to `abs`.  The absolute value of that is `.478`, so `.478` is the value of the full expression `abs(1.21 - 1.688)`.\n",
    "\n",
    "Picture simplifying the expression in several steps:\n",
    "\n",
    "1. `abs(1.21 - 1.688)`\n",
    "2. `abs(-.478)`\n",
    "3. `.478`\n",
    "\n",
    "In fact, that's basically what Python does to compute the value of the expression."
   ]
  },
  {
   "cell_type": "markdown",
   "metadata": {},
   "source": [
    "**Question 4.1.** <br /> Say that Botan's height is 1.85 meters.  In the next cell, use `abs` to compute the absolute value of the difference between Botan's height and the average human height.  Give that value the name `botan_distance_from_average_m`.\n",
    "\n",
    "<img src=\"numberline_1.png\" alt=\"number line showing height difference and teaching abs value\">"
   ]
  },
  {
   "cell_type": "code",
   "execution_count": 43,
   "metadata": {
    "scrolled": true
   },
   "outputs": [
    {
     "data": {
      "text/plain": [
       "0.16200000000000014"
      ]
     },
     "execution_count": 43,
     "metadata": {},
     "output_type": "execute_result"
    }
   ],
   "source": [
    "# Replace the ... with an expression to compute the absolute\n",
    "# value of the difference between Botan's height (1.85m) and\n",
    "# the average human height.\n",
    "botan_distance_from_average_m = abs(1.85-1.688)\n",
    "\n",
    "# Again, we've written this here so that the distance you\n",
    "# compute will get printed when you run this cell.\n",
    "botan_distance_from_average_m"
   ]
  },
  {
   "cell_type": "code",
   "execution_count": 44,
   "metadata": {
    "scrolled": true
   },
   "outputs": [
    {
     "data": {
      "text/html": [
       "<pre>/home/jovyan/materials-x18/materials/x18/lab/1/lab01/tests/q41.py: All tests passed!</pre>"
      ],
      "text/plain": [
       "<okgrade.result.TestResult at 0x7f8ad008f3c8>"
      ]
     },
     "metadata": {},
     "output_type": "display_data"
    }
   ],
   "source": [
    "_ = ok.grade('q41')"
   ]
  },
  {
   "cell_type": "markdown",
   "metadata": {},
   "source": [
    "### 4.1. More nesting\n",
    "Now say that we want to compute the most unusual height among Aditya's and Botan's heights.  We'll use the function `max`, which (again) takes two numbers as arguments and returns the larger of the two arguments.  Combining that with the `abs` function, we can compute the biggest distance from the average among the two heights:"
   ]
  },
  {
   "cell_type": "code",
   "execution_count": 45,
   "metadata": {
    "scrolled": true
   },
   "outputs": [
    {
     "name": "stdout",
     "output_type": "stream",
     "text": [
      "The biggest distance from the average height among these two people is 0.478 meters.\n"
     ]
    }
   ],
   "source": [
    "# Just read and run this cell.\n",
    "\n",
    "aditya_height_m = 1.21\n",
    "botan_height_m = 1.85\n",
    "average_adult_human_height_m = 1.688\n",
    "\n",
    "# The biggest distance from the average human height, among the two heights:\n",
    "biggest_distance_m = max(abs(aditya_height_m - average_adult_human_height_m), abs(botan_height_m - average_adult_human_height_m))\n",
    "\n",
    "# Print out our results in a nice readable format:\n",
    "print(\"The biggest distance from the average height among these two people is\", biggest_distance_m, \"meters.\")"
   ]
  },
  {
   "cell_type": "markdown",
   "metadata": {},
   "source": [
    "The line where `biggest_distance_m` is computed looks complicated, but we can break it down into simpler components just like we did before.\n",
    "\n",
    "The basic recipe is repeated simplification of small parts of the expression:\n",
    "* We start with the simplest components whose values we know, like plain names or numbers.  (Examples: `aditya_height_m` or `5`.)\n",
    "* **Find a simple-enough group of expressions:** We look for a group of simple expressions that are directly connected to each other in the code, for example by arithmetic or as arguments to a function call.\n",
    "* **Evaluate that group:** We evaluate the arithmetic expressions or function calls they're part of, and replace the whole group with whatever we compute.  (Example: `aditya_height_m - average_adult_human_height_m` becomes `-.478`.)\n",
    "* **Repeat:** We continue this process, using the values of the glommed-together stuff as our new basic components.  (Example: `abs(-.478)` becomes `.478`, and `max(.478, .162)` later becomes `.478`.)\n",
    "* We keep doing that until we've evaluated the whole expression.\n",
    "\n",
    "You can run the next cell to see a slideshow of that process."
   ]
  },
  {
   "cell_type": "code",
   "execution_count": 46,
   "metadata": {
    "scrolled": true
   },
   "outputs": [
    {
     "data": {
      "text/html": [
       "\n",
       "        <iframe\n",
       "            width=\"800\"\n",
       "            height=\"600\"\n",
       "            src=\"https://docs.google.com/presentation/d/1urkX-nRsD8VJvcOnJsjmCy0Jpv752Ssn5Pphg2sMC-0/embed?start=false&loop=false&delayms=3000\"\n",
       "            frameborder=\"0\"\n",
       "            allowfullscreen\n",
       "        ></iframe>\n",
       "        "
      ],
      "text/plain": [
       "<IPython.lib.display.IFrame at 0x7f8ad008f8d0>"
      ]
     },
     "execution_count": 46,
     "metadata": {},
     "output_type": "execute_result"
    }
   ],
   "source": [
    "from IPython.display import IFrame\n",
    "IFrame('https://docs.google.com/presentation/d/1urkX-nRsD8VJvcOnJsjmCy0Jpv752Ssn5Pphg2sMC-0/embed?start=false&loop=false&delayms=3000', 800, 600)"
   ]
  },
  {
   "cell_type": "markdown",
   "metadata": {},
   "source": [
    "Ok, your turn. \n",
    "\n",
    "**Question 4.1.1.** <br /> Given the heights of the Splash Triplets from the Golden State Warriors, write an expression that computes the smallest difference between any of the three heights. Your expression shouldn't have any numbers in it, only function calls and the names `klay`, `steph`, and `kevin`. Give the value of your expression the name `min_height_difference`."
   ]
  },
  {
   "cell_type": "code",
   "execution_count": 47,
   "metadata": {
    "scrolled": true
   },
   "outputs": [],
   "source": [
    "# The three players' heights, in meters:\n",
    "klay =  2.01 # Klay Thompson is 6'7\"\n",
    "steph = 1.91 # Steph Curry is 6'3\"\n",
    "kevin = 2.06 # Kevin Durant is officially 6'9\", but many suspect that he is taller.\n",
    "             # (Further complicating matters, membership of the \"Splash Triplets\" \n",
    "             #  is disputed, since it was originally used in reference to \n",
    "             #  Klay Thompson, Steph Curry, and Draymond Green.)\n",
    "\n",
    "# We'd like to look at all 3 pairs of heights, compute the absolute\n",
    "# difference between each pair, and then find the smallest of those\n",
    "# 3 absolute differences.  This is left to you!  If you're stuck,\n",
    "# try computing the value for each step of the process (like the\n",
    "# difference between Klay's heigh and Steph's height) on a separate\n",
    "# line and giving it a name (like klay_steph_height_diff).\n",
    "min_height_difference = min(abs(klay-steph),abs(steph-kevin),abs(kevin-klay))"
   ]
  },
  {
   "cell_type": "code",
   "execution_count": 48,
   "metadata": {
    "scrolled": true
   },
   "outputs": [
    {
     "data": {
      "text/html": [
       "<pre>/home/jovyan/materials-x18/materials/x18/lab/1/lab01/tests/q411.py: All tests passed!</pre>"
      ],
      "text/plain": [
       "<okgrade.result.TestResult at 0x7f8ad008f9b0>"
      ]
     },
     "metadata": {},
     "output_type": "display_data"
    }
   ],
   "source": [
    "_ = ok.grade('q411')"
   ]
  },
  {
   "cell_type": "markdown",
   "metadata": {},
   "source": [
    "## 5. Tables"
   ]
  },
  {
   "cell_type": "markdown",
   "metadata": {},
   "source": [
    "A website called [Gapminder](https://www.gapminder.org/) collects a large variety of measurements of human health, education, and progress. Each measurement is published in a table that has one row per country and one column per year, describing how the measurement varies over time and place.\n",
    "\n",
    "For example, [this table](https://docs.google.com/spreadsheets/d/1kmnYQzXLGVF9RbKB3Y-WuUsJFumnE4s2UWdmlskv6r4/pub#) describes the average number of years of school attended by all women 25 and older. The table has a row for each of 175 countries and a column for each year from 1970 through 2009. The data were estimated for a study by the [Institute for Health Metrics and Evaluation](http://www.healthmetricsandevaluation.org/) called \"Increased educational attainment and its impact on child mortality: a systematic analysis in 175 countries from 1970 to 2009\" ([link](http://www.healthmetricsandevaluation.org/resources/datasets/2010/education_attainment/education_attainment.html&sa=D&ust=1522644678563000&usg=AFQjCNG-Rn_hO868jLLBz6FRLT8LSqwUVA)).\n",
    "\n",
    "To load tables into Python, you must first import the `datascience` module. The second line below makes sure that charts appear on the screen when you create them. You only need to execute these lines once per notebook (and each time you restart your kernel)."
   ]
  },
  {
   "cell_type": "code",
   "execution_count": 49,
   "metadata": {},
   "outputs": [],
   "source": [
    "# Don't change this cell\n",
    "from datascience import *\n",
    "%matplotlib inline"
   ]
  },
  {
   "cell_type": "markdown",
   "metadata": {},
   "source": [
    "Now, run the next cell in order to load the table describing years of school attended by women around the world and over time. Only the first 10 rows of the table will be displayed."
   ]
  },
  {
   "cell_type": "code",
   "execution_count": 50,
   "metadata": {},
   "outputs": [
    {
     "data": {
      "text/html": [
       "<table border=\"1\" class=\"dataframe\">\n",
       "    <thead>\n",
       "        <tr>\n",
       "            <th>Row Labels</th> <th>1970</th> <th>1971</th> <th>1972</th> <th>1973</th> <th>1974</th> <th>1975</th> <th>1976</th> <th>1977</th> <th>1978</th> <th>1979</th> <th>1980</th> <th>1981</th> <th>1982</th> <th>1983</th> <th>1984</th> <th>1985</th> <th>1986</th> <th>1987</th> <th>1988</th> <th>1989</th> <th>1990</th> <th>1991</th> <th>1992</th> <th>1993</th> <th>1994</th> <th>1995</th> <th>1996</th> <th>1997</th> <th>1998</th> <th>1999</th> <th>2000</th> <th>2001</th> <th>2002</th> <th>2003</th> <th>2004</th> <th>2005</th> <th>2006</th> <th>2007</th> <th>2008</th> <th>2009</th>\n",
       "        </tr>\n",
       "    </thead>\n",
       "    <tbody>\n",
       "        <tr>\n",
       "            <td>Afghanistan        </td> <td>0   </td> <td>0.1 </td> <td>0.1 </td> <td>0.1 </td> <td>0.1 </td> <td>0.1 </td> <td>0.1 </td> <td>0.1 </td> <td>0.1 </td> <td>0.1 </td> <td>0.1 </td> <td>0.1 </td> <td>0.1 </td> <td>0.1 </td> <td>0.1 </td> <td>0.1 </td> <td>0.1 </td> <td>0.1 </td> <td>0.1 </td> <td>0.1 </td> <td>0.1 </td> <td>0.2 </td> <td>0.2 </td> <td>0.2 </td> <td>0.2 </td> <td>0.2 </td> <td>0.2 </td> <td>0.2 </td> <td>0.2 </td> <td>0.2 </td> <td>0.2 </td> <td>0.3 </td> <td>0.3 </td> <td>0.3 </td> <td>0.3 </td> <td>0.3 </td> <td>0.3 </td> <td>0.3 </td> <td>0.3 </td> <td>0.4 </td>\n",
       "        </tr>\n",
       "    </tbody>\n",
       "        <tr>\n",
       "            <td>Albania            </td> <td>3.9 </td> <td>4   </td> <td>4.1 </td> <td>4.2 </td> <td>4.3 </td> <td>4.5 </td> <td>4.6 </td> <td>4.7 </td> <td>4.8 </td> <td>4.9 </td> <td>5.1 </td> <td>5.2 </td> <td>5.3 </td> <td>5.4 </td> <td>5.6 </td> <td>5.7 </td> <td>5.9 </td> <td>6   </td> <td>6.2 </td> <td>6.3 </td> <td>6.5 </td> <td>6.6 </td> <td>6.8 </td> <td>6.9 </td> <td>7.1 </td> <td>7.2 </td> <td>7.4 </td> <td>7.5 </td> <td>7.7 </td> <td>7.8 </td> <td>8   </td> <td>8.2 </td> <td>8.3 </td> <td>8.5 </td> <td>8.6 </td> <td>8.8 </td> <td>8.9 </td> <td>9.1 </td> <td>9.2 </td> <td>9.4 </td>\n",
       "        </tr>\n",
       "    </tbody>\n",
       "        <tr>\n",
       "            <td>Algeria            </td> <td>0.6 </td> <td>0.6 </td> <td>0.6 </td> <td>0.7 </td> <td>0.7 </td> <td>0.8 </td> <td>0.8 </td> <td>0.9 </td> <td>0.9 </td> <td>1   </td> <td>1.1 </td> <td>1.1 </td> <td>1.2 </td> <td>1.3 </td> <td>1.4 </td> <td>1.5 </td> <td>1.5 </td> <td>1.6 </td> <td>1.7 </td> <td>1.8 </td> <td>1.9 </td> <td>2   </td> <td>2.1 </td> <td>2.2 </td> <td>2.3 </td> <td>2.4 </td> <td>2.5 </td> <td>2.6 </td> <td>2.8 </td> <td>2.9 </td> <td>3   </td> <td>3.1 </td> <td>3.2 </td> <td>3.4 </td> <td>3.5 </td> <td>3.6 </td> <td>3.8 </td> <td>3.9 </td> <td>4   </td> <td>4.2 </td>\n",
       "        </tr>\n",
       "    </tbody>\n",
       "        <tr>\n",
       "            <td>Angola             </td> <td>0.5 </td> <td>0.5 </td> <td>0.5 </td> <td>0.5 </td> <td>0.6 </td> <td>0.6 </td> <td>0.6 </td> <td>0.7 </td> <td>0.7 </td> <td>0.7 </td> <td>0.8 </td> <td>0.8 </td> <td>0.8 </td> <td>0.9 </td> <td>0.9 </td> <td>1   </td> <td>1   </td> <td>1.1 </td> <td>1.1 </td> <td>1.2 </td> <td>1.2 </td> <td>1.3 </td> <td>1.3 </td> <td>1.4 </td> <td>1.5 </td> <td>1.5 </td> <td>1.6 </td> <td>1.7 </td> <td>1.8 </td> <td>1.8 </td> <td>1.9 </td> <td>2   </td> <td>2.1 </td> <td>2.2 </td> <td>2.3 </td> <td>2.4 </td> <td>2.5 </td> <td>2.6 </td> <td>2.7 </td> <td>2.8 </td>\n",
       "        </tr>\n",
       "    </tbody>\n",
       "        <tr>\n",
       "            <td>Antigua and Barbuda</td> <td>7   </td> <td>7.1 </td> <td>7.2 </td> <td>7.4 </td> <td>7.5 </td> <td>7.7 </td> <td>7.8 </td> <td>8   </td> <td>8.1 </td> <td>8.3 </td> <td>8.4 </td> <td>8.6 </td> <td>8.7 </td> <td>8.9 </td> <td>9.1 </td> <td>9.2 </td> <td>9.4 </td> <td>9.5 </td> <td>9.7 </td> <td>9.8 </td> <td>10  </td> <td>10.1</td> <td>10.2</td> <td>10.4</td> <td>10.5</td> <td>10.6</td> <td>10.8</td> <td>10.9</td> <td>11  </td> <td>11.1</td> <td>11.2</td> <td>11.4</td> <td>11.5</td> <td>11.6</td> <td>11.7</td> <td>11.8</td> <td>11.9</td> <td>12  </td> <td>12.1</td> <td>12.2</td>\n",
       "        </tr>\n",
       "    </tbody>\n",
       "        <tr>\n",
       "            <td>Argentina          </td> <td>5.5 </td> <td>5.6 </td> <td>5.7 </td> <td>5.9 </td> <td>6   </td> <td>6.1 </td> <td>6.2 </td> <td>6.3 </td> <td>6.5 </td> <td>6.6 </td> <td>6.7 </td> <td>6.8 </td> <td>7   </td> <td>7.1 </td> <td>7.2 </td> <td>7.3 </td> <td>7.4 </td> <td>7.6 </td> <td>7.7 </td> <td>7.8 </td> <td>7.9 </td> <td>8   </td> <td>8.1 </td> <td>8.3 </td> <td>8.4 </td> <td>8.5 </td> <td>8.6 </td> <td>8.7 </td> <td>8.8 </td> <td>9   </td> <td>9.1 </td> <td>9.2 </td> <td>9.3 </td> <td>9.4 </td> <td>9.5 </td> <td>9.6 </td> <td>9.8 </td> <td>9.9 </td> <td>10  </td> <td>10.1</td>\n",
       "        </tr>\n",
       "    </tbody>\n",
       "        <tr>\n",
       "            <td>Armenia            </td> <td>5.9 </td> <td>6   </td> <td>6.2 </td> <td>6.3 </td> <td>6.5 </td> <td>6.6 </td> <td>6.8 </td> <td>6.9 </td> <td>7.1 </td> <td>7.2 </td> <td>7.4 </td> <td>7.5 </td> <td>7.7 </td> <td>7.8 </td> <td>8   </td> <td>8.1 </td> <td>8.3 </td> <td>8.4 </td> <td>8.6 </td> <td>8.7 </td> <td>8.9 </td> <td>9   </td> <td>9.1 </td> <td>9.3 </td> <td>9.4 </td> <td>9.6 </td> <td>9.7 </td> <td>9.8 </td> <td>10  </td> <td>10.1</td> <td>10.2</td> <td>10.3</td> <td>10.5</td> <td>10.6</td> <td>10.7</td> <td>10.8</td> <td>11  </td> <td>11.1</td> <td>11.2</td> <td>11.3</td>\n",
       "        </tr>\n",
       "    </tbody>\n",
       "        <tr>\n",
       "            <td>Australia          </td> <td>8.4 </td> <td>8.5 </td> <td>8.6 </td> <td>8.7 </td> <td>8.8 </td> <td>8.9 </td> <td>9   </td> <td>9.1 </td> <td>9.2 </td> <td>9.3 </td> <td>9.4 </td> <td>9.5 </td> <td>9.6 </td> <td>9.6 </td> <td>9.7 </td> <td>9.8 </td> <td>9.9 </td> <td>10  </td> <td>10.1</td> <td>10.1</td> <td>10.2</td> <td>10.3</td> <td>10.4</td> <td>10.4</td> <td>10.5</td> <td>10.6</td> <td>10.7</td> <td>10.7</td> <td>10.8</td> <td>10.9</td> <td>10.9</td> <td>11  </td> <td>11.1</td> <td>11.1</td> <td>11.2</td> <td>11.3</td> <td>11.3</td> <td>11.4</td> <td>11.4</td> <td>11.5</td>\n",
       "        </tr>\n",
       "    </tbody>\n",
       "        <tr>\n",
       "            <td>Austria            </td> <td>7.2 </td> <td>7.3 </td> <td>7.4 </td> <td>7.5 </td> <td>7.6 </td> <td>7.7 </td> <td>7.9 </td> <td>8   </td> <td>8.1 </td> <td>8.2 </td> <td>8.3 </td> <td>8.4 </td> <td>8.5 </td> <td>8.6 </td> <td>8.7 </td> <td>8.8 </td> <td>8.9 </td> <td>9   </td> <td>9.1 </td> <td>9.1 </td> <td>9.2 </td> <td>9.3 </td> <td>9.4 </td> <td>9.5 </td> <td>9.6 </td> <td>9.7 </td> <td>9.8 </td> <td>9.9 </td> <td>10  </td> <td>10.1</td> <td>10.2</td> <td>10.3</td> <td>10.4</td> <td>10.4</td> <td>10.5</td> <td>10.6</td> <td>10.7</td> <td>10.8</td> <td>10.9</td> <td>11  </td>\n",
       "        </tr>\n",
       "    </tbody>\n",
       "        <tr>\n",
       "            <td>Azerbaijan         </td> <td>4.5 </td> <td>4.6 </td> <td>4.8 </td> <td>5   </td> <td>5.1 </td> <td>5.3 </td> <td>5.5 </td> <td>5.7 </td> <td>5.8 </td> <td>6   </td> <td>6.2 </td> <td>6.4 </td> <td>6.6 </td> <td>6.8 </td> <td>7   </td> <td>7.2 </td> <td>7.4 </td> <td>7.6 </td> <td>7.8 </td> <td>7.9 </td> <td>8.1 </td> <td>8.3 </td> <td>8.5 </td> <td>8.7 </td> <td>8.9 </td> <td>9.1 </td> <td>9.2 </td> <td>9.4 </td> <td>9.6 </td> <td>9.8 </td> <td>9.9 </td> <td>10.1</td> <td>10.2</td> <td>10.4</td> <td>10.6</td> <td>10.7</td> <td>10.9</td> <td>11  </td> <td>11.2</td> <td>11.3</td>\n",
       "        </tr>\n",
       "    </tbody>\n",
       "</table>\n",
       "<p>... (165 rows omitted)</p>"
      ],
      "text/plain": [
       "Row Labels          | 1970 | 1971 | 1972 | 1973 | 1974 | 1975 | 1976 | 1977 | 1978 | 1979 | 1980 | 1981 | 1982 | 1983 | 1984 | 1985 | 1986 | 1987 | 1988 | 1989 | 1990 | 1991 | 1992 | 1993 | 1994 | 1995 | 1996 | 1997 | 1998 | 1999 | 2000 | 2001 | 2002 | 2003 | 2004 | 2005 | 2006 | 2007 | 2008 | 2009\n",
       "Afghanistan         | 0    | 0.1  | 0.1  | 0.1  | 0.1  | 0.1  | 0.1  | 0.1  | 0.1  | 0.1  | 0.1  | 0.1  | 0.1  | 0.1  | 0.1  | 0.1  | 0.1  | 0.1  | 0.1  | 0.1  | 0.1  | 0.2  | 0.2  | 0.2  | 0.2  | 0.2  | 0.2  | 0.2  | 0.2  | 0.2  | 0.2  | 0.3  | 0.3  | 0.3  | 0.3  | 0.3  | 0.3  | 0.3  | 0.3  | 0.4\n",
       "Albania             | 3.9  | 4    | 4.1  | 4.2  | 4.3  | 4.5  | 4.6  | 4.7  | 4.8  | 4.9  | 5.1  | 5.2  | 5.3  | 5.4  | 5.6  | 5.7  | 5.9  | 6    | 6.2  | 6.3  | 6.5  | 6.6  | 6.8  | 6.9  | 7.1  | 7.2  | 7.4  | 7.5  | 7.7  | 7.8  | 8    | 8.2  | 8.3  | 8.5  | 8.6  | 8.8  | 8.9  | 9.1  | 9.2  | 9.4\n",
       "Algeria             | 0.6  | 0.6  | 0.6  | 0.7  | 0.7  | 0.8  | 0.8  | 0.9  | 0.9  | 1    | 1.1  | 1.1  | 1.2  | 1.3  | 1.4  | 1.5  | 1.5  | 1.6  | 1.7  | 1.8  | 1.9  | 2    | 2.1  | 2.2  | 2.3  | 2.4  | 2.5  | 2.6  | 2.8  | 2.9  | 3    | 3.1  | 3.2  | 3.4  | 3.5  | 3.6  | 3.8  | 3.9  | 4    | 4.2\n",
       "Angola              | 0.5  | 0.5  | 0.5  | 0.5  | 0.6  | 0.6  | 0.6  | 0.7  | 0.7  | 0.7  | 0.8  | 0.8  | 0.8  | 0.9  | 0.9  | 1    | 1    | 1.1  | 1.1  | 1.2  | 1.2  | 1.3  | 1.3  | 1.4  | 1.5  | 1.5  | 1.6  | 1.7  | 1.8  | 1.8  | 1.9  | 2    | 2.1  | 2.2  | 2.3  | 2.4  | 2.5  | 2.6  | 2.7  | 2.8\n",
       "Antigua and Barbuda | 7    | 7.1  | 7.2  | 7.4  | 7.5  | 7.7  | 7.8  | 8    | 8.1  | 8.3  | 8.4  | 8.6  | 8.7  | 8.9  | 9.1  | 9.2  | 9.4  | 9.5  | 9.7  | 9.8  | 10   | 10.1 | 10.2 | 10.4 | 10.5 | 10.6 | 10.8 | 10.9 | 11   | 11.1 | 11.2 | 11.4 | 11.5 | 11.6 | 11.7 | 11.8 | 11.9 | 12   | 12.1 | 12.2\n",
       "Argentina           | 5.5  | 5.6  | 5.7  | 5.9  | 6    | 6.1  | 6.2  | 6.3  | 6.5  | 6.6  | 6.7  | 6.8  | 7    | 7.1  | 7.2  | 7.3  | 7.4  | 7.6  | 7.7  | 7.8  | 7.9  | 8    | 8.1  | 8.3  | 8.4  | 8.5  | 8.6  | 8.7  | 8.8  | 9    | 9.1  | 9.2  | 9.3  | 9.4  | 9.5  | 9.6  | 9.8  | 9.9  | 10   | 10.1\n",
       "Armenia             | 5.9  | 6    | 6.2  | 6.3  | 6.5  | 6.6  | 6.8  | 6.9  | 7.1  | 7.2  | 7.4  | 7.5  | 7.7  | 7.8  | 8    | 8.1  | 8.3  | 8.4  | 8.6  | 8.7  | 8.9  | 9    | 9.1  | 9.3  | 9.4  | 9.6  | 9.7  | 9.8  | 10   | 10.1 | 10.2 | 10.3 | 10.5 | 10.6 | 10.7 | 10.8 | 11   | 11.1 | 11.2 | 11.3\n",
       "Australia           | 8.4  | 8.5  | 8.6  | 8.7  | 8.8  | 8.9  | 9    | 9.1  | 9.2  | 9.3  | 9.4  | 9.5  | 9.6  | 9.6  | 9.7  | 9.8  | 9.9  | 10   | 10.1 | 10.1 | 10.2 | 10.3 | 10.4 | 10.4 | 10.5 | 10.6 | 10.7 | 10.7 | 10.8 | 10.9 | 10.9 | 11   | 11.1 | 11.1 | 11.2 | 11.3 | 11.3 | 11.4 | 11.4 | 11.5\n",
       "Austria             | 7.2  | 7.3  | 7.4  | 7.5  | 7.6  | 7.7  | 7.9  | 8    | 8.1  | 8.2  | 8.3  | 8.4  | 8.5  | 8.6  | 8.7  | 8.8  | 8.9  | 9    | 9.1  | 9.1  | 9.2  | 9.3  | 9.4  | 9.5  | 9.6  | 9.7  | 9.8  | 9.9  | 10   | 10.1 | 10.2 | 10.3 | 10.4 | 10.4 | 10.5 | 10.6 | 10.7 | 10.8 | 10.9 | 11\n",
       "Azerbaijan          | 4.5  | 4.6  | 4.8  | 5    | 5.1  | 5.3  | 5.5  | 5.7  | 5.8  | 6    | 6.2  | 6.4  | 6.6  | 6.8  | 7    | 7.2  | 7.4  | 7.6  | 7.8  | 7.9  | 8.1  | 8.3  | 8.5  | 8.7  | 8.9  | 9.1  | 9.2  | 9.4  | 9.6  | 9.8  | 9.9  | 10.1 | 10.2 | 10.4 | 10.6 | 10.7 | 10.9 | 11   | 11.2 | 11.3\n",
       "... (165 rows omitted)"
      ]
     },
     "execution_count": 50,
     "metadata": {},
     "output_type": "execute_result"
    }
   ],
   "source": [
    "school = Table.read_table('school.csv')\n",
    "school"
   ]
  },
  {
   "cell_type": "markdown",
   "metadata": {},
   "source": [
    "**Question 5.1.**\n",
    "Assign the name `top_1970` to a two-column table that has the column of country names (labeled `\"Row Labels\"`) and the years in school in 1970, sorted by the second column in decreasing order. Notice the large difference between the country with the most average years of school and the rest in the top 10.\n",
    "\n",
    "*Hint*: Even though 1970 is a number, treat it as text by placing it within quotation marks when using it as a label. For example, `school.select(\"1970\")` rather than `school.select(1970)`. Column labels are always text."
   ]
  },
  {
   "cell_type": "code",
   "execution_count": 71,
   "metadata": {},
   "outputs": [
    {
     "name": "stdout",
     "output_type": "stream",
     "text": [
      "Row Labels  | 1970\n",
      "Afghanistan | 0\n"
     ]
    }
   ],
   "source": [
    "top_1970 = school.select(\"Row Labels\",\"1970\")\n",
    "top_1970.sort(\"1970\", descending=True)\n",
    "print(top_1970.take(0))"
   ]
  },
  {
   "cell_type": "code",
   "execution_count": 72,
   "metadata": {},
   "outputs": [
    {
     "data": {
      "text/html": [
       "<pre>Test 5.1 2 failed!\n",
       "\n",
       "Test code:\n",
       "\n",
       "&gt;&gt;&gt; # Use .sort(&quot;1970&quot;, descending=True) to sort in descreasing order.\n",
       "&gt;&gt;&gt; print(top_1970.take(0))\n",
       "Row Labels    | 1970\n",
       "United States | 11\n",
       "\n",
       "\n",
       "Test result:\n",
       "Trying:\n",
       "    print(top_1970.take(0))\n",
       "Expecting:\n",
       "    Row Labels    | 1970\n",
       "    United States | 11\n",
       "**********************************************************************\n",
       "Line 3, in 5.1 2\n",
       "Failed example:\n",
       "    print(top_1970.take(0))\n",
       "Expected:\n",
       "    Row Labels    | 1970\n",
       "    United States | 11\n",
       "Got:\n",
       "    Row Labels  | 1970\n",
       "    Afghanistan | 0\n",
       "</pre>"
      ],
      "text/plain": [
       "<okgrade.result.TestResult at 0x7f8a80ec9ac8>"
      ]
     },
     "metadata": {},
     "output_type": "display_data"
    }
   ],
   "source": [
    "_ = ok.grade('q51')"
   ]
  },
  {
   "cell_type": "markdown",
   "metadata": {},
   "source": [
    "You can create a bar chart of all the countries in the data set using the expression below."
   ]
  },
  {
   "cell_type": "code",
   "execution_count": 73,
   "metadata": {
    "scrolled": false
   },
   "outputs": [
    {
     "data": {
      "image/png": "[encoded data removed]",
      "text/plain": [
       "<Figure size 432x6300 with 1 Axes>"
      ]
     },
     "metadata": {},
     "output_type": "display_data"
    }
   ],
   "source": [
    "top_1970.barh('Row Labels')"
   ]
  },
  {
   "cell_type": "markdown",
   "metadata": {},
   "source": [
    "**Question 5.2** Now, to see how much these numbers have changed, assign `top_1970_with_2009` to a table with the rows in the same order, but include a third column for 2009 as well. The differences between countries are much smaller in 2009."
   ]
  },
  {
   "cell_type": "code",
   "execution_count": 75,
   "metadata": {},
   "outputs": [
    {
     "name": "stdout",
     "output_type": "stream",
     "text": [
      "I don't know what this means\n"
     ]
    }
   ],
   "source": [
    "top_1970_with_2009 = ...\n",
    "top_1970_with_2009\n",
    "print(\"I don't know what this means\")"
   ]
  },
  {
   "cell_type": "code",
   "execution_count": null,
   "metadata": {},
   "outputs": [],
   "source": [
    "_ = ok.grade('q52')"
   ]
  },
  {
   "cell_type": "markdown",
   "metadata": {},
   "source": [
    "A bar chart for this three-column table will compare 1970 to 2009 for each country. Everywhere in the world, the average number of years that women attend school has increased, in some cases dramatically!"
   ]
  },
  {
   "cell_type": "code",
   "execution_count": null,
   "metadata": {
    "scrolled": false
   },
   "outputs": [],
   "source": [
    "top_1970_with_2009.barh('Row Labels')"
   ]
  },
  {
   "cell_type": "markdown",
   "metadata": {},
   "source": [
    "The [Gapminder data browser](https://www.gapminder.org/data/) includes many other tables that you can explore as well. For more information on how to load a table from the web, try the course discussion forum."
   ]
  },
  {
   "cell_type": "markdown",
   "metadata": {},
   "source": [
    "## 6. Completion"
   ]
  },
  {
   "cell_type": "markdown",
   "metadata": {},
   "source": [
    "Congratulations, you're done with lab 1! You can check that all tests pass by running the next cell. If all the tests are passing in your notebook when we score everybody's assignment, then you will receive full credit."
   ]
  },
  {
   "cell_type": "code",
   "execution_count": null,
   "metadata": {
    "scrolled": false
   },
   "outputs": [],
   "source": [
    "# For your convenience, you can run this cell to run all the tests at once!\n",
    "print(\"This hurt my soul and so I stopped.\")\n",
    "import os\n",
    "_ = [ok.grade(q[:-3]) for q in os.listdir(\"tests\") if q.startswith('q')]"
   ]
  },
  {
   "cell_type": "markdown",
   "metadata": {},
   "source": [
    "Finally, select **Save and Checkpoint** from the `File` menu below the Jupyter logo to save your work."
   ]
  }
 ],
 "metadata": {
  "anaconda-cloud": {},
  "kernelspec": {
   "display_name": "Python 3",
   "language": "python",
   "name": "python3"
  },
  "language_info": {
   "codemirror_mode": {
    "name": "ipython",
    "version": 3
   },
   "file_extension": ".py",
   "mimetype": "text/x-python",
   "name": "python",
   "nbconvert_exporter": "python",
   "pygments_lexer": "ipython3",
   "version": "3.6.5"
  }
 },
 "nbformat": 4,
 "nbformat_minor": 1
}
