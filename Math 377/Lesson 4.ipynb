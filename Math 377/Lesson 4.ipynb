{
 "cells": [
  {
   "cell_type": "markdown",
   "metadata": {},
   "source": [
    "# Lesson 4"
   ]
  },
  {
   "cell_type": "markdown",
   "metadata": {},
   "source": [
    "### 1)"
   ]
  },
  {
   "cell_type": "code",
   "execution_count": 82,
   "metadata": {},
   "outputs": [
    {
     "name": "stdout",
     "output_type": "stream",
     "text": [
      "I am Bret Crew. I am 20 years old. I am from Ripon, CA\n"
     ]
    }
   ],
   "source": [
    "first = \"Bret\"\n",
    "last = \"Crew\"\n",
    "hometown = \"Ripon, CA\"\n",
    "age = 20\n",
    "sentence = \"I am \" + str(first) + \" \" +str(last) +\". I am \" + str(age) + \" years old.\" + \" I am from \" + str(hometown)\n",
    "print(sentence)"
   ]
  },
  {
   "cell_type": "code",
   "execution_count": 83,
   "metadata": {},
   "outputs": [
    {
     "name": "stdout",
     "output_type": "stream",
     "text": [
      "bret crew\n"
     ]
    }
   ],
   "source": [
    "first = first.lower()\n",
    "last = last.lower()\n",
    "print(first, last)"
   ]
  },
  {
   "cell_type": "code",
   "execution_count": 84,
   "metadata": {},
   "outputs": [
    {
     "name": "stdout",
     "output_type": "stream",
     "text": [
      "Bret Crew\n"
     ]
    }
   ],
   "source": [
    "first=first.replace(first[0],first[0].upper())\n",
    "last=last.replace(last[0],last[0].upper())\n",
    "print(first,last)"
   ]
  },
  {
   "cell_type": "markdown",
   "metadata": {},
   "source": [
    "### 2)"
   ]
  },
  {
   "cell_type": "code",
   "execution_count": 85,
   "metadata": {},
   "outputs": [
    {
     "data": {
      "text/plain": [
       "'He is Bret Crew. He is 20 years old. He is from Ripon, CA'"
      ]
     },
     "execution_count": 85,
     "metadata": {},
     "output_type": "execute_result"
    }
   ],
   "source": [
    "new_sentence = sentence.replace(\"I am\", \"He is\")\n",
    "new_sentence"
   ]
  },
  {
   "cell_type": "markdown",
   "metadata": {},
   "source": [
    "### 3)"
   ]
  },
  {
   "cell_type": "code",
   "execution_count": 86,
   "metadata": {},
   "outputs": [
    {
     "data": {
      "text/plain": [
       "False"
      ]
     },
     "execution_count": 86,
     "metadata": {},
     "output_type": "execute_result"
    }
   ],
   "source": [
    "maybe = False\n",
    "if len(sentence) > age+40:\n",
    "    maybe = True\n",
    "else:\n",
    "    maybe = False\n",
    "maybe"
   ]
  },
  {
   "cell_type": "code",
   "execution_count": null,
   "metadata": {},
   "outputs": [],
   "source": []
  }
 ],
 "metadata": {
  "kernelspec": {
   "display_name": "Python 3",
   "language": "python",
   "name": "python3"
  },
  "language_info": {
   "codemirror_mode": {
    "name": "ipython",
    "version": 3
   },
   "file_extension": ".py",
   "mimetype": "text/x-python",
   "name": "python",
   "nbconvert_exporter": "python",
   "pygments_lexer": "ipython3",
   "version": "3.6.5"
  }
 },
 "nbformat": 4,
 "nbformat_minor": 2
}
