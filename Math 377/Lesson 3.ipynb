{
 "cells": [
  {
   "cell_type": "markdown",
   "metadata": {},
   "source": [
    "# Lesson 3"
   ]
  },
  {
   "cell_type": "markdown",
   "metadata": {},
   "source": [
    "### 1"
   ]
  },
  {
   "cell_type": "code",
   "execution_count": 4,
   "metadata": {},
   "outputs": [],
   "source": [
    "import numpy as np\n",
    "from datascience import *\n",
    "%matplotlib inline\n",
    "import matplotlib.pyplot as plots\n",
    "plots.style.use('fivethirtyeight')\n",
    "import warnings\n",
    "warnings.simplefilter(action='ignore', category=FutureWarning)"
   ]
  },
  {
   "cell_type": "markdown",
   "metadata": {},
   "source": [
    "### 2"
   ]
  },
  {
   "cell_type": "code",
   "execution_count": 16,
   "metadata": {},
   "outputs": [
    {
     "name": "stdout",
     "output_type": "stream",
     "text": [
      "The number of seconds in the month of June is: 2592000\n",
      "The number of seconds that elapsed from June 1 at 1200 to August 14 at 0930 is: 6384600\n"
     ]
    }
   ],
   "source": [
    "num_sec_june = 86400*30\n",
    "print(\"The number of seconds in the month of June is:\", num_sec_june)\n",
    "june_aug = num_sec_june - 43200 + 31*86400 + 13*86400 + 9*60*60 + 30*60\n",
    "print(\"The number of seconds that elapsed from June 1 at 1200 to August 14 at 0930 is:\", june_aug)"
   ]
  },
  {
   "cell_type": "markdown",
   "metadata": {},
   "source": [
    "### 3"
   ]
  },
  {
   "cell_type": "code",
   "execution_count": 12,
   "metadata": {},
   "outputs": [],
   "source": [
    "pop = Table.read_table('world_population.csv')"
   ]
  },
  {
   "cell_type": "code",
   "execution_count": 13,
   "metadata": {},
   "outputs": [
    {
     "name": "stdout",
     "output_type": "stream",
     "text": [
      "Population in 2015: 7256490011\n"
     ]
    }
   ],
   "source": [
    "print(\"Population in 2015:\", pop.take(65).column(\"Population\")[0])"
   ]
  },
  {
   "cell_type": "code",
   "execution_count": 14,
   "metadata": {},
   "outputs": [
    {
     "name": "stdout",
     "output_type": "stream",
     "text": [
      "The growth from 1950 to 2015 is:  4698861357\n"
     ]
    }
   ],
   "source": [
    "pop1950 = int(pop.take(0).column(\"Population\")[0])\n",
    "pop2015 = int(pop.take(65).column(\"Population\")[0])\n",
    "growth = pop2015-pop1950\n",
    "print(\"The growth from 1950 to 2015 is: \", growth)"
   ]
  },
  {
   "cell_type": "code",
   "execution_count": 64,
   "metadata": {},
   "outputs": [
    {
     "name": "stdout",
     "output_type": "stream",
     "text": [
      "The average growth rate over this time was:  1.0161727038065897 %\n"
     ]
    }
   ],
   "source": [
    "avg = ((pop2015/pop1950)**(1/65))\n",
    "print(\"The average growth rate over this time was: \", avg, \"%\")"
   ]
  },
  {
   "cell_type": "markdown",
   "metadata": {},
   "source": [
    "### 4"
   ]
  },
  {
   "cell_type": "code",
   "execution_count": 5,
   "metadata": {},
   "outputs": [
    {
     "data": {
      "text/html": [
       "<table border=\"1\" class=\"dataframe\">\n",
       "    <thead>\n",
       "        <tr>\n",
       "            <th>PassengerId</th> <th>Survived</th> <th>passenger_class</th> <th>Name</th> <th>Sex</th> <th>Age</th> <th>SibSp</th> <th>Parch</th> <th>Ticket</th> <th>Fare</th> <th>Cabin</th> <th>Embarked</th> <th>family_size</th>\n",
       "        </tr>\n",
       "    </thead>\n",
       "    <tbody>\n",
       "        <tr>\n",
       "            <td>1          </td> <td>0       </td> <td>3              </td> <td>Braund, Mr. Owen Harris</td> <td>male</td> <td>22  </td> <td>1    </td> <td>0    </td> <td>A/5 21171</td> <td>7.25</td> <td>nan  </td> <td>S       </td> <td>1          </td>\n",
       "        </tr>\n",
       "    </tbody>\n",
       "</table>\n",
       "<p>... (890 rows omitted)</p>"
      ],
      "text/plain": [
       "<IPython.core.display.HTML object>"
      ]
     },
     "metadata": {},
     "output_type": "display_data"
    }
   ],
   "source": [
    "titanic = Table.read_table('Titanic_Kidz.csv')\n",
    "titanic.show(1)\n",
    "# The table edits were completed in Excel for simplicity."
   ]
  },
  {
   "cell_type": "code",
   "execution_count": 9,
   "metadata": {},
   "outputs": [
    {
     "data": {
      "text/html": [
       "<table border=\"1\" class=\"dataframe\">\n",
       "    <thead>\n",
       "        <tr>\n",
       "            <th>passenger_class</th> <th>count</th>\n",
       "        </tr>\n",
       "    </thead>\n",
       "    <tbody>\n",
       "        <tr>\n",
       "            <td>1              </td> <td>216  </td>\n",
       "        </tr>\n",
       "        <tr>\n",
       "            <td>2              </td> <td>184  </td>\n",
       "        </tr>\n",
       "        <tr>\n",
       "            <td>3              </td> <td>491  </td>\n",
       "        </tr>\n",
       "    </tbody>\n",
       "</table>"
      ],
      "text/plain": [
       "passenger_class | count\n",
       "1               | 216\n",
       "2               | 184\n",
       "3               | 491"
      ]
     },
     "execution_count": 9,
     "metadata": {},
     "output_type": "execute_result"
    },
    {
     "data": {
      "image/png": "[encoded data removed]",
      "text/plain": [
       "<Figure size 432x288 with 1 Axes>"
      ]
     },
     "metadata": {},
     "output_type": "display_data"
    }
   ],
   "source": [
    "bar_data = titanic.group(['passenger_class'])\n",
    "bar_data.barh('passenger_class','count')\n",
    "bar_data\n"
   ]
  },
  {
   "cell_type": "code",
   "execution_count": 188,
   "metadata": {},
   "outputs": [
    {
     "data": {
      "text/html": [
       "<table border=\"1\" class=\"dataframe\">\n",
       "    <thead>\n",
       "        <tr>\n",
       "            <th>PassengerId</th> <th>Survived</th> <th>passenger_class</th> <th>Name</th> <th>Sex</th> <th>Age</th> <th>SibSp</th> <th>Parch</th> <th>Ticket</th> <th>Fare</th> <th>Cabin</th> <th>Embarked</th> <th>family_size</th>\n",
       "        </tr>\n",
       "    </thead>\n",
       "    <tbody>\n",
       "        <tr>\n",
       "            <td>804        </td> <td>1       </td> <td>3              </td> <td>Thomas, Master. Assad Alexander</td> <td>male  </td> <td>0.42</td> <td>0    </td> <td>1    </td> <td>2625  </td> <td>8.5167 </td> <td>nan  </td> <td>C       </td> <td>1          </td>\n",
       "        </tr>\n",
       "        <tr>\n",
       "            <td>756        </td> <td>1       </td> <td>2              </td> <td>Hamalainen, Master. Viljo      </td> <td>male  </td> <td>0.67</td> <td>1    </td> <td>1    </td> <td>250649</td> <td>14.5   </td> <td>nan  </td> <td>S       </td> <td>2          </td>\n",
       "        </tr>\n",
       "        <tr>\n",
       "            <td>470        </td> <td>1       </td> <td>3              </td> <td>Baclini, Miss. Helene Barbara  </td> <td>female</td> <td>0.75</td> <td>2    </td> <td>1    </td> <td>2666  </td> <td>19.2583</td> <td>nan  </td> <td>C       </td> <td>3          </td>\n",
       "        </tr>\n",
       "        <tr>\n",
       "            <td>645        </td> <td>1       </td> <td>3              </td> <td>Baclini, Miss. Eugenie         </td> <td>female</td> <td>0.75</td> <td>2    </td> <td>1    </td> <td>2666  </td> <td>19.2583</td> <td>nan  </td> <td>C       </td> <td>3          </td>\n",
       "        </tr>\n",
       "        <tr>\n",
       "            <td>79         </td> <td>1       </td> <td>2              </td> <td>Caldwell, Master. Alden Gates  </td> <td>male  </td> <td>0.83</td> <td>0    </td> <td>2    </td> <td>248738</td> <td>29     </td> <td>nan  </td> <td>S       </td> <td>2          </td>\n",
       "        </tr>\n",
       "    </tbody>\n",
       "</table>\n",
       "<p>... (886 rows omitted)</p>"
      ],
      "text/plain": [
       "<IPython.core.display.HTML object>"
      ]
     },
     "metadata": {},
     "output_type": "display_data"
    }
   ],
   "source": [
    "age_list = titanic.sort('Age')\n",
    "age_list.show(5)"
   ]
  },
  {
   "cell_type": "code",
   "execution_count": 44,
   "metadata": {},
   "outputs": [],
   "source": [
    "age_list = titanic.sort('Age', descending = True)\n",
    "#age_list.show(5)"
   ]
  },
  {
   "cell_type": "code",
   "execution_count": 48,
   "metadata": {},
   "outputs": [
    {
     "data": {
      "text/html": [
       "<table border=\"1\" class=\"dataframe\">\n",
       "    <thead>\n",
       "        <tr>\n",
       "            <th>PassengerId</th> <th>Survived</th> <th>passenger_class</th> <th>Name</th> <th>Sex</th> <th>Age</th> <th>SibSp</th> <th>Parch</th> <th>Ticket</th> <th>Fare</th> <th>Cabin</th> <th>Embarked</th> <th>family_size</th>\n",
       "        </tr>\n",
       "    </thead>\n",
       "    <tbody>\n",
       "        <tr>\n",
       "            <td>631        </td> <td>1       </td> <td>1              </td> <td>Barkworth, Mr. Algernon Henry Wilson</td> <td>male</td> <td>80  </td> <td>0    </td> <td>0    </td> <td>27042   </td> <td>30     </td> <td>A23  </td> <td>S       </td> <td>0          </td>\n",
       "        </tr>\n",
       "        <tr>\n",
       "            <td>852        </td> <td>0       </td> <td>3              </td> <td>Svensson, Mr. Johan                 </td> <td>male</td> <td>74  </td> <td>0    </td> <td>0    </td> <td>347060  </td> <td>7.775  </td> <td>nan  </td> <td>S       </td> <td>0          </td>\n",
       "        </tr>\n",
       "        <tr>\n",
       "            <td>494        </td> <td>0       </td> <td>1              </td> <td>Artagaveytia, Mr. Ramon             </td> <td>male</td> <td>71  </td> <td>0    </td> <td>0    </td> <td>PC 17609</td> <td>49.5042</td> <td>nan  </td> <td>C       </td> <td>0          </td>\n",
       "        </tr>\n",
       "        <tr>\n",
       "            <td>97         </td> <td>0       </td> <td>1              </td> <td>Goldschmidt, Mr. George B           </td> <td>male</td> <td>71  </td> <td>0    </td> <td>0    </td> <td>PC 17754</td> <td>34.6542</td> <td>A5   </td> <td>C       </td> <td>0          </td>\n",
       "        </tr>\n",
       "        <tr>\n",
       "            <td>117        </td> <td>0       </td> <td>3              </td> <td>Connors, Mr. Patrick                </td> <td>male</td> <td>70.5</td> <td>0    </td> <td>0    </td> <td>370369  </td> <td>7.75   </td> <td>nan  </td> <td>Q       </td> <td>0          </td>\n",
       "        </tr>\n",
       "    </tbody>\n",
       "</table>\n",
       "<p>... (709 rows omitted)</p>"
      ],
      "text/plain": [
       "<IPython.core.display.HTML object>"
      ]
     },
     "metadata": {},
     "output_type": "display_data"
    }
   ],
   "source": [
    "old = age_list.exclude[:177]\n",
    "# ages.show(177)\n",
    "\n",
    "old.show(5)"
   ]
  },
  {
   "cell_type": "code",
   "execution_count": 62,
   "metadata": {},
   "outputs": [
    {
     "data": {
      "text/html": [
       "<table border=\"1\" class=\"dataframe\">\n",
       "    <thead>\n",
       "        <tr>\n",
       "            <th>Survived</th> <th>passenger_class</th> <th>count</th>\n",
       "        </tr>\n",
       "    </thead>\n",
       "    <tbody>\n",
       "        <tr>\n",
       "            <td>0       </td> <td>1              </td> <td>80   </td>\n",
       "        </tr>\n",
       "        <tr>\n",
       "            <td>0       </td> <td>2              </td> <td>97   </td>\n",
       "        </tr>\n",
       "        <tr>\n",
       "            <td>0       </td> <td>3              </td> <td>372  </td>\n",
       "        </tr>\n",
       "        <tr>\n",
       "            <td>1       </td> <td>1              </td> <td>136  </td>\n",
       "        </tr>\n",
       "        <tr>\n",
       "            <td>1       </td> <td>2              </td> <td>87   </td>\n",
       "        </tr>\n",
       "        <tr>\n",
       "            <td>1       </td> <td>3              </td> <td>119  </td>\n",
       "        </tr>\n",
       "    </tbody>\n",
       "</table>"
      ],
      "text/plain": [
       "<IPython.core.display.HTML object>"
      ]
     },
     "metadata": {},
     "output_type": "display_data"
    },
    {
     "name": "stdout",
     "output_type": "stream",
     "text": [
      "Survival rate for passenger_class 1: 62.96296296296296 %\n",
      "Survival rate for passenger_class 2: 47.28260869565217 %\n",
      "Survival rate for passenger_class 3: 24.236252545824847 %\n"
     ]
    }
   ],
   "source": [
    "surv_rates = titanic.groups([\"Survived\",\"passenger_class\"])\n",
    "# titanic.barh(\"passenger_class\",\"Survived\")\n",
    "surv_rates.show()\n",
    "print(\"Survival rate for passenger_class 1:\",(surv_rates[2][3]/((surv_rates[2][0])+surv_rates[2][3]))*100,\"%\")\n",
    "print(\"Survival rate for passenger_class 2:\",(surv_rates[2][4]/((surv_rates[2][1])+surv_rates[2][4]))*100,\"%\")\n",
    "print(\"Survival rate for passenger_class 3:\",(surv_rates[2][5]/((surv_rates[2][2])+surv_rates[2][5]))*100,\"%\")\n",
    "\n"
   ]
  },
  {
   "cell_type": "markdown",
   "metadata": {},
   "source": [
    "# DIY Study"
   ]
  },
  {
   "cell_type": "markdown",
   "metadata": {},
   "source": [
    "### What percentage of men / women survived?"
   ]
  },
  {
   "cell_type": "code",
   "execution_count": 61,
   "metadata": {},
   "outputs": [
    {
     "data": {
      "text/html": [
       "<table border=\"1\" class=\"dataframe\">\n",
       "    <thead>\n",
       "        <tr>\n",
       "            <th>Sex</th> <th>Survived</th> <th>count</th>\n",
       "        </tr>\n",
       "    </thead>\n",
       "    <tbody>\n",
       "        <tr>\n",
       "            <td>female</td> <td>0       </td> <td>81   </td>\n",
       "        </tr>\n",
       "        <tr>\n",
       "            <td>female</td> <td>1       </td> <td>233  </td>\n",
       "        </tr>\n",
       "        <tr>\n",
       "            <td>male  </td> <td>0       </td> <td>468  </td>\n",
       "        </tr>\n",
       "        <tr>\n",
       "            <td>male  </td> <td>1       </td> <td>109  </td>\n",
       "        </tr>\n",
       "    </tbody>\n",
       "</table>"
      ],
      "text/plain": [
       "<IPython.core.display.HTML object>"
      ]
     },
     "metadata": {},
     "output_type": "display_data"
    },
    {
     "name": "stdout",
     "output_type": "stream",
     "text": [
      "Survival rate for men: 18.890814558058924 %\n",
      "Survival rate for women: 74.20382165605095 %\n"
     ]
    }
   ],
   "source": [
    "gender = titanic.groups([\"Sex\",\"Survived\"])\n",
    "gender.show()\n",
    "men_surv = gender[2][3]\n",
    "men_tot = gender[2][2]+men_surv\n",
    "women_surv = gender[2][1]\n",
    "women_tot = gender[2][0]+women_surv\n",
    "print(\"Survival rate for men:\",(men_surv/men_tot)*100,\"%\")\n",
    "print(\"Survival rate for women:\",(women_surv/women_tot)*100,\"%\")"
   ]
  },
  {
   "cell_type": "markdown",
   "metadata": {},
   "source": [
    "### What percentage of children / adults survived? (adult is 18+)"
   ]
  },
  {
   "cell_type": "code",
   "execution_count": 215,
   "metadata": {},
   "outputs": [
    {
     "name": "stdout",
     "output_type": "stream",
     "text": [
      "Total Children: 113\n",
      "Survived: 61\n",
      "Suvival Rate: 53.98230088495575 %\n",
      "\n",
      "Total Adults: 601\n",
      "Survived: 247\n",
      "Suvival Rate: 41.098169717138106 %\n",
      "\n",
      "Overall survival rate: 43.13725490196079 %\n",
      "\n",
      "Passengers not counted:  177\n"
     ]
    }
   ],
   "source": [
    "ages = titanic.sort(\"Age\",descending=False)\n",
    "children = 0\n",
    "for i in range(0,titanic.num_rows):\n",
    "    if ages[5][i]<18:\n",
    "        children = children +1\n",
    "child_surv = 0\n",
    "for j in range(0,children):\n",
    "    if ages[1][j] == 1:\n",
    "        child_surv = child_surv+1\n",
    "print(\"Total Children:\",children)\n",
    "print(\"Survived:\",child_surv)\n",
    "print(\"Suvival Rate:\",(child_surv/children)*100,\"%\")\n",
    "\n",
    "ages = titanic.sort(\"Age\",descending=False)\n",
    "adults = 0\n",
    "for i in range(0,titanic.num_rows):\n",
    "    if ages[5][i]>=18:\n",
    "        adults = adults +1\n",
    "adult_surv = 0\n",
    "for j in range(0,adults):\n",
    "    if ages[1][j] == 1:\n",
    "        adult_surv = adult_surv+1\n",
    "print()\n",
    "print(\"Total Adults:\",adults)\n",
    "print(\"Survived:\",adult_surv)\n",
    "print(\"Suvival Rate:\",(adult_surv/adults)*100,\"%\")\n",
    "print()\n",
    "print(\"Overall survival rate:\",100*(adult_surv+child_surv)/(adults+children),\"%\")\n",
    "print()\n",
    "print(\"Passengers not counted: \",titanic.num_rows-adults-children)"
   ]
  }
 ],
 "metadata": {
  "kernelspec": {
   "display_name": "Python 3",
   "language": "python",
   "name": "python3"
  },
  "language_info": {
   "codemirror_mode": {
    "name": "ipython",
    "version": 3
   },
   "file_extension": ".py",
   "mimetype": "text/x-python",
   "name": "python",
   "nbconvert_exporter": "python",
   "pygments_lexer": "ipython3",
   "version": "3.6.5"
  }
 },
 "nbformat": 4,
 "nbformat_minor": 2
}
